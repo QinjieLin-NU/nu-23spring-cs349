{
 "cells": [
  {
   "cell_type": "code",
   "execution_count": 1,
   "id": "157d577b",
   "metadata": {},
   "outputs": [],
   "source": [
    "import json \n",
    "import pandas as pd\n",
    "\n",
    "def load_ratings(folder, category):\n",
    "    training_file, testing_file = f\"{folder}/{category}_Ratings_training.csv\",  f\"{folder}/{category}_Ratings_test.csv\"\n",
    "    training_ratings, testing_ratings = pd.read_csv(training_file), pd.read_csv(testing_file)\n",
    "    return training_ratings, testing_ratings\n",
    "\n",
    "def load_json(file):\n",
    "    with open(file,\"r\") as f:\n",
    "        data = f.read()\n",
    "    json_data = []\n",
    "    for d in data.split(\"\\n\"):\n",
    "        json_data.append(json.loads(d))\n",
    "    return json_data\n",
    "\n",
    "def load_reviews(folder, category):\n",
    "    training_file, testing_file = f\"{folder}/{category}_Reviews_training.json\",  f\"{folder}/{category}_Reviews_test.json\"\n",
    "    training_reviews, testing_reviews = pd.read_json(training_file,lines=True), pd.read_json(testing_file,lines=True)\n",
    "    return training_reviews, testing_reviews"
   ]
  },
  {
   "cell_type": "code",
   "execution_count": 2,
   "id": "5f4c707b",
   "metadata": {},
   "outputs": [],
   "source": [
    "trn_ratings, tst_ratings = load_ratings(\"./ML_datasets/ML_datasets\", \"Automotive\")\n",
    "trn_reviews, tst_reviews = load_reviews(\"./ML_datasets/ML_datasets\", \"Automotive\")"
   ]
  },
  {
   "cell_type": "markdown",
   "id": "b11155ca",
   "metadata": {},
   "source": [
    "## Awesome 0: \n",
    "Just the mean values of all overall score."
   ]
  },
  {
   "cell_type": "code",
   "execution_count": 147,
   "id": "c41a2305",
   "metadata": {},
   "outputs": [
    {
     "data": {
      "image/png": "[encoded data removed]",
      "text/plain": [
       "<Figure size 720x216 with 2 Axes>"
      ]
     },
     "metadata": {
      "needs_background": "light"
     },
     "output_type": "display_data"
    }
   ],
   "source": [
    "import pandas as pd\n",
    "import matplotlib.pyplot as plt\n",
    "\n",
    "# compute rating distribution\n",
    "trn_counts = trn_ratings['overall'].value_counts().sort_index()\n",
    "tst_counts = tst_ratings['overall'].value_counts().sort_index()\n",
    "\n",
    "# plot rating distribution\n",
    "fig, (ax0, ax1) = plt.subplots(1,2, figsize=(10, 3))\n",
    "\n",
    "ax0.bar(trn_counts.index, trn_counts.values)\n",
    "ax0.set_xlabel('Rating')\n",
    "ax0.set_ylabel('Count')\n",
    "ax0.set_title('Distribution of Ratings on Training')\n",
    "\n",
    "ax1.bar(tst_counts.index, tst_counts.values)\n",
    "ax1.set_xlabel('Rating')\n",
    "ax1.set_ylabel('Count')\n",
    "ax1.set_title('Distribution of Ratings on Testing')\n",
    "\n",
    "plt.show()"
   ]
  },
  {
   "cell_type": "markdown",
   "id": "b7f78c68",
   "metadata": {},
   "source": [
    "## Awesome 1: verified reviewers' rating\n",
    "\n",
    "To define the awesomeness of a product from the provided Amazon review and rating datasets, we can define it as the weighted average of the overall ratings where the weights are determined by the verified status of the reviewer. The assumption here is that the ratings from verified reviewers are more reliable than those from non-verified reviewers.\n",
    "\n",
    "Here is the code to compute the awesomeness of each product:"
   ]
  },
  {
   "cell_type": "code",
   "execution_count": 157,
   "id": "ed0b1f07",
   "metadata": {
    "scrolled": true
   },
   "outputs": [
    {
     "name": "stderr",
     "output_type": "stream",
     "text": [
      "<ipython-input-157-c7db62ea0e9c>:3: RuntimeWarning: invalid value encountered in double_scalars\n",
      "  .apply(lambda x: (x['overall'] * x['verified']).sum() / x['verified'].sum())\\\n"
     ]
    }
   ],
   "source": [
    "tst_awesomeness1 = tst_ratings.merge(tst_reviews[['asin', 'reviewerID', 'verified']], on=['asin', 'reviewerID'])\\\n",
    ".groupby('asin')\\\n",
    ".apply(lambda x: (x['overall'] * x['verified']).sum() / x['verified'].sum())\\\n",
    ".rename('awesomeness')\\\n",
    ".reset_index()"
   ]
  },
  {
   "cell_type": "code",
   "execution_count": 158,
   "id": "bdae4f31",
   "metadata": {},
   "outputs": [
    {
     "name": "stderr",
     "output_type": "stream",
     "text": [
      "<ipython-input-158-61916ace8649>:3: RuntimeWarning: invalid value encountered in double_scalars\n",
      "  .apply(lambda x: (x['overall'] * x['verified']).sum() / x['verified'].sum())\\\n"
     ]
    }
   ],
   "source": [
    "trn_awesomeness1 = trn_ratings.merge(trn_reviews[['asin', 'reviewerID', 'verified']], on=['asin', 'reviewerID'])\\\n",
    ".groupby('asin')\\\n",
    ".apply(lambda x: (x['overall'] * x['verified']).sum() / x['verified'].sum())\\\n",
    ".rename('awesomeness')\\\n",
    ".reset_index()"
   ]
  },
  {
   "cell_type": "code",
   "execution_count": 159,
   "id": "48dcabf4",
   "metadata": {},
   "outputs": [
    {
     "data": {
      "image/png": "[encoded data removed]",
      "text/plain": [
       "<Figure size 720x216 with 2 Axes>"
      ]
     },
     "metadata": {
      "needs_background": "light"
     },
     "output_type": "display_data"
    }
   ],
   "source": [
    "import matplotlib.pyplot as plt\n",
    "fig, (ax0, ax1) = plt.subplots(1,2, figsize=(10, 3))\n",
    "\n",
    "ax0.hist(list(trn_awesomeness1['awesomeness']), bins=5, edgecolor='black')\n",
    "ax0.set_xlabel('Awesomeness')\n",
    "ax0.set_ylabel('Number of Products')\n",
    "ax0.set_title('Distribution of Product Awesomeness in Traninig')\n",
    "\n",
    "ax1.hist(list(tst_awesomeness1['awesomeness']), bins=5, edgecolor='black')\n",
    "ax1.set_xlabel('Awesomeness')\n",
    "ax1.set_ylabel('Number of Products')\n",
    "ax1.set_title('Distribution of Product Awesomeness in Testing')\n",
    "\n",
    "plt.show()"
   ]
  },
  {
   "cell_type": "code",
   "execution_count": null,
   "id": "224342b1",
   "metadata": {},
   "outputs": [],
   "source": [
    "# import matplotlib.pyplot as plt\n",
    "# plt.hist(list(tst_awesomeness['awesomeness']), bins=5, edgecolor='black')\n",
    "# plt.xlabel('Awesomeness')\n",
    "# plt.ylabel('Number of Products')\n",
    "# plt.title('Distribution of Product Awesomeness in Testing')\n",
    "# plt.show()"
   ]
  },
  {
   "cell_type": "markdown",
   "id": "5f452e2d",
   "metadata": {},
   "source": [
    "## Awesome 2: Rating Distribution\n",
    "\n",
    "Rating distribution: You can analyze the distribution of ratings for the product. For example, if most of the ratings are 5 stars, you can consider the product to be awesome. On the other hand, if most of the ratings are 1 or 2 stars, you can consider the product to be not so awesome. Then we can define awesomeness as the raios of postive review."
   ]
  },
  {
   "cell_type": "code",
   "execution_count": 17,
   "id": "dd5dd235",
   "metadata": {},
   "outputs": [],
   "source": [
    "awesome_standard = 4.0\n",
    "\n",
    "tst_awesomeness2 = tst_ratings.groupby(\"asin\").apply(lambda x: sum(x['overall']>awesome_standard)/sum(x['overall']>0))\\\n",
    ".rename(\"awesomeness\").reset_index()\n",
    "\n",
    "trn_awesomeness2 = trn_ratings.groupby(\"asin\").apply(lambda x: sum(x['overall']>awesome_standard)/sum(x['overall']>0))\\\n",
    ".rename(\"awesomeness\").reset_index()"
   ]
  },
  {
   "cell_type": "code",
   "execution_count": 18,
   "id": "562d6d5d",
   "metadata": {},
   "outputs": [
    {
     "data": {
      "image/png": "[encoded data removed]",
      "text/plain": [
       "<Figure size 720x216 with 2 Axes>"
      ]
     },
     "metadata": {
      "needs_background": "light"
     },
     "output_type": "display_data"
    }
   ],
   "source": [
    "import matplotlib.pyplot as plt\n",
    "\n",
    "fig, (ax0, ax1) = plt.subplots(1,2, figsize=(10, 3))\n",
    "\n",
    "ax0.hist(list(trn_awesomeness2['awesomeness']), bins=5, edgecolor='black')\n",
    "ax0.set_xlabel('Awesomeness')\n",
    "ax0.set_ylabel('Number of Products')\n",
    "ax0.set_title('Distribution of Product Awesomeness in Training')\n",
    "\n",
    "ax1.hist(list(tst_awesomeness2['awesomeness']), bins=5, edgecolor='black')\n",
    "ax1.set_xlabel('Awesomeness')\n",
    "ax1.set_ylabel('Number of Products')\n",
    "ax1.set_title('Distribution of Product Awesomeness in Testing')\n",
    "\n",
    "plt.show()"
   ]
  },
  {
   "cell_type": "markdown",
   "id": "002fc43f",
   "metadata": {},
   "source": [
    "## Awesome3: sentiment analysis\n",
    "\n",
    "we can use Natural Language Processing (NLP) techniques to perform sentiment analysis on the review text. This will help you determine whether the reviews are positive, negative or neutral. You can then calculate the mean of sentiment score to define the awesomeness of the product. "
   ]
  },
  {
   "cell_type": "code",
   "execution_count": 4,
   "id": "8923a6a9",
   "metadata": {},
   "outputs": [],
   "source": [
    "import pandas as pd\n",
    "import nltk\n",
    "from nltk.sentiment import SentimentIntensityAnalyzer\n",
    "from nltk.corpus import stopwords\n",
    "from nltk.tokenize import word_tokenize\n",
    "import string\n"
   ]
  },
  {
   "cell_type": "code",
   "execution_count": null,
   "id": "e807630d",
   "metadata": {},
   "outputs": [],
   "source": [
    "nltk.download('stopwords')\n",
    "nltk.download('punkt')\n",
    "nltk.download('vader_lexicon')"
   ]
  },
  {
   "cell_type": "code",
   "execution_count": 5,
   "id": "51abfd78",
   "metadata": {},
   "outputs": [],
   "source": [
    "def analyze_sentiment(reviews_df):\n",
    "    df_copy = reviews_df.copy()\n",
    "    \n",
    "    # Preprocess the review text\n",
    "    stop_words = set(stopwords.words('english'))\n",
    "    def preprocess_text(text):\n",
    "        if type(text) == float:\n",
    "            print(text)\n",
    "        tokens = word_tokenize(text.lower())\n",
    "        tokens = [token for token in tokens if token not in stop_words and token not in string.punctuation]\n",
    "        return ' '.join(tokens)\n",
    "    df_copy['reviewText'] = reviews_df['reviewText'].astype(str).apply(preprocess_text)\n",
    "\n",
    "    # initialize sentiment analyzer\n",
    "    sia = SentimentIntensityAnalyzer()\n",
    "\n",
    "    # calculate sentiment scores for each review\n",
    "    sentiment_scores = df_copy[\"reviewText\"].astype(str).apply(lambda x: sia.polarity_scores(x))\n",
    "\n",
    "    # extract compound score, -1 means negative, +1 means positive\n",
    "    df_copy[\"sentiment\"] = [score[\"compound\"] for score in sentiment_scores]\n",
    "\n",
    "    # calculate average sentiment for each product\n",
    "    avg_sentiments = df_copy.groupby(\"asin\")[\"sentiment\"].mean().rename(\"awesomeness\").reset_index()\n",
    "    return avg_sentiments"
   ]
  },
  {
   "cell_type": "code",
   "execution_count": 13,
   "id": "9f2d1f56",
   "metadata": {},
   "outputs": [],
   "source": [
    "tst_sentiments = analyze_sentiment(tst_reviews)"
   ]
  },
  {
   "cell_type": "code",
   "execution_count": 14,
   "id": "d164b86d",
   "metadata": {},
   "outputs": [],
   "source": [
    "trn_sentiments = analyze_sentiment(trn_reviews)"
   ]
  },
  {
   "cell_type": "code",
   "execution_count": 16,
   "id": "abff7748",
   "metadata": {},
   "outputs": [
    {
     "data": {
      "image/png": "[encoded data removed]",
      "text/plain": [
       "<Figure size 720x216 with 2 Axes>"
      ]
     },
     "metadata": {
      "needs_background": "light"
     },
     "output_type": "display_data"
    }
   ],
   "source": [
    "import matplotlib.pyplot as plt\n",
    "\n",
    "fig, (ax0, ax1) = plt.subplots(1,2, figsize=(10, 3))\n",
    "\n",
    "ax0.hist(list(tst_sentiments['awesomeness']), bins=10, edgecolor='black')\n",
    "ax0.set_xlabel('Awesomeness')\n",
    "ax0.set_ylabel('Number of Products')\n",
    "ax0.set_title('Distribution of Product Awesomeness in Training')\n",
    "\n",
    "ax1.hist(list(trn_sentiments['awesomeness']), bins=10, edgecolor='black')\n",
    "ax1.set_xlabel('Awesomeness')\n",
    "ax1.set_ylabel('Number of Products')\n",
    "ax1.set_title('Distribution of Product Awesomeness in Testing')\n",
    "\n",
    "plt.show()"
   ]
  },
  {
   "cell_type": "code",
   "execution_count": null,
   "id": "887fb06b",
   "metadata": {},
   "outputs": [],
   "source": []
  },
  {
   "cell_type": "code",
   "execution_count": null,
   "id": "1156463c",
   "metadata": {},
   "outputs": [],
   "source": []
  },
  {
   "cell_type": "code",
   "execution_count": null,
   "id": "2d28545b",
   "metadata": {},
   "outputs": [],
   "source": []
  }
 ],
 "metadata": {
  "kernelspec": {
   "display_name": "Python 3",
   "language": "python",
   "name": "python3"
  },
  "language_info": {
   "codemirror_mode": {
    "name": "ipython",
    "version": 3
   },
   "file_extension": ".py",
   "mimetype": "text/x-python",
   "name": "python",
   "nbconvert_exporter": "python",
   "pygments_lexer": "ipython3",
   "version": "3.8.8"
  }
 },
 "nbformat": 4,
 "nbformat_minor": 5
}
