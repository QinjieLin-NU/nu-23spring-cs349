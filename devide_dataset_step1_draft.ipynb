{
 "cells": [
  {
   "cell_type": "code",
   "execution_count": 1,
   "id": "e1983cb8",
   "metadata": {},
   "outputs": [],
   "source": [
    "import json \n",
    "import pandas as pd\n",
    "import numpy as np\n",
    "\n",
    "def load_ratings(folder, category):\n",
    "    training_file, testing_file = f\"{folder}/{category}_Ratings_training.csv\",  f\"{folder}/{category}_Ratings_test.csv\"\n",
    "    training_ratings, testing_ratings = pd.read_csv(training_file), pd.read_csv(testing_file)\n",
    "    return training_ratings, testing_ratings\n",
    "\n",
    "def load_reviews(folder, category):\n",
    "    training_file, testing_file = f\"{folder}/{category}_Reviews_training.json\",  f\"{folder}/{category}_Reviews_test.json\"\n",
    "    training_reviews, testing_reviews = pd.read_json(training_file,lines=True), pd.read_json(testing_file,lines=True)\n",
    "    return training_reviews, testing_reviews"
   ]
  },
  {
   "cell_type": "code",
   "execution_count": null,
   "id": "3a6150e8",
   "metadata": {},
   "outputs": [],
   "source": [
    "trn_ratings, tst_ratings = load_ratings(\"./ML_datasets/ML_datasets\", \"Automotive\")\n",
    "trn_reviews, tst_reviews = load_reviews(\"./ML_datasets/ML_datasets\", \"Automotive\")"
   ]
  },
  {
   "cell_type": "code",
   "execution_count": null,
   "id": "f65c80e0",
   "metadata": {},
   "outputs": [],
   "source": []
  },
  {
   "cell_type": "markdown",
   "id": "dbb92519",
   "metadata": {},
   "source": [
    "# devide here"
   ]
  },
  {
   "cell_type": "code",
   "execution_count": 3,
   "id": "9ba4441e",
   "metadata": {},
   "outputs": [],
   "source": [
    "# megre \n",
    "trn_df = trn_ratings.merge(trn_reviews, on=['asin', 'reviewerID', 'unixReviewTime', \"overall\"])\n",
    "tst_df = tst_ratings.merge(tst_reviews, on=['asin', 'reviewerID', 'unixReviewTime'])"
   ]
  },
  {
   "cell_type": "code",
   "execution_count": 4,
   "id": "99f3813d",
   "metadata": {},
   "outputs": [],
   "source": [
    "# contact\n",
    "total_df = pd.concat([trn_df, tst_df]).reset_index(drop=True)"
   ]
  },
  {
   "cell_type": "code",
   "execution_count": 5,
   "id": "cfea2727",
   "metadata": {},
   "outputs": [],
   "source": [
    "# # get awesomenss \n",
    "# awesome_threshold = 4.5\n",
    "# total_awesomeness = total_df.groupby('asin')\\\n",
    "# .apply(lambda x: 0.0 if x['verified'].sum() == 0 else (x['overall'] * x['verified']).sum() / x['verified'].sum())\\\n",
    "# .rename('awesomeness')\\\n",
    "# .reset_index()\n",
    "# total_awesomeness['awesomeness'] = total_awesomeness['awesomeness'].apply(lambda x: 1 if x > awesome_threshold else 0)"
   ]
  },
  {
   "cell_type": "code",
   "execution_count": 6,
   "id": "9f3db0f4",
   "metadata": {},
   "outputs": [
    {
     "data": {
      "text/plain": [
       "array([3.5 , 3.55, 3.6 , 3.65, 3.7 , 3.75, 3.8 , 3.85, 3.9 , 3.95, 4.  ,\n",
       "       4.05, 4.1 , 4.15, 4.2 , 4.25, 4.3 , 4.35, 4.4 , 4.45, 4.5 , 4.55,\n",
       "       4.6 , 4.65, 4.7 , 4.75, 4.8 , 4.85, 4.9 , 4.95, 5.  , 5.05])"
      ]
     },
     "execution_count": 6,
     "metadata": {},
     "output_type": "execute_result"
    }
   ],
   "source": [
    "np.arange(3.5, 5.1, 0.05)"
   ]
  },
  {
   "cell_type": "code",
   "execution_count": null,
   "id": "2a88db3d",
   "metadata": {},
   "outputs": [],
   "source": [
    "# get awesomenss \n",
    "t_list = [4.3, 4.4, 4.5, 4.6, 4.7, 3.8, 3.9, 4.0, 4.1, 4.2, 3.5, 3.6, 3.7, 4.8, 4.9, 5.0 ]\n",
    "t_list = [ 4.3 , 4.35, 4.4 , 4.45, 4.5 , 4.55,\n",
    "          4.6 , 4.65, 4.7 , 4.75, 4.8 ,\n",
    "          3.8 , 3.85, 3.9 , 3.95, 4.  ,\n",
    "          4.05, 4.1 , 4.15, 4.2 , 4.25, \n",
    "          3.5 , 3.55, 3.6 , 3.65, 3.7 , 3.75,\n",
    "          4.85, 4.9 , 4.95, 5.  ,]\n",
    "t_list = [4.5]\n",
    "for t in t_list:\n",
    "    awesome_threshold = round(t,3)\n",
    "    total_awesomeness = total_df.groupby('asin')\\\n",
    "        .apply(lambda x: 0.0 if x['verified'].sum() == 0 else (x['overall'] * x['verified']).sum() / x['verified'].sum())\\\n",
    "        .rename('awesomeness')\\\n",
    "        .reset_index()\n",
    "    total_awesomeness['awesomeness'] = total_awesomeness['awesomeness'].apply(lambda x: 1 if x > awesome_threshold else 0)\n",
    "    ratio_ones = total_awesomeness['awesomeness'].value_counts(normalize=True)[1]\n",
    "    print(f\"awesome_threshold: {awesome_threshold}, ratio of awesome product: {ratio_ones}\")\n",
    "    if 0.42 < ratio_ones < 0.58:\n",
    "        break"
   ]
  },
  {
   "cell_type": "code",
   "execution_count": null,
   "id": "3e490f7e",
   "metadata": {},
   "outputs": [],
   "source": [
    "# drop overall and merge to total df \n",
    "merged_df = total_df.drop('overall', axis=1).merge(total_awesomeness, on=['asin'])"
   ]
  },
  {
   "cell_type": "code",
   "execution_count": null,
   "id": "fd7e238c",
   "metadata": {},
   "outputs": [],
   "source": [
    "# devide\n",
    "train_data = merged_df.sample(frac=0.5, random_state=42)\n",
    "test_data_1 = merged_df.drop(train_data.index).sample(frac=1/3, random_state=42)\n",
    "test_data_2 = merged_df.drop(train_data.index).drop(test_data_1.index).sample(frac=1/3, random_state=42)\n",
    "test_data_3 = merged_df.drop(train_data.index).drop(test_data_1.index).drop(test_data_2.index)"
   ]
  },
  {
   "cell_type": "code",
   "execution_count": null,
   "id": "5daecc54",
   "metadata": {},
   "outputs": [],
   "source": [
    "#reset index\n",
    "train_data = train_data.reset_index(drop=True)\n",
    "test_data_1 = test_data_1.reset_index(drop=True)\n",
    "test_data_2 = test_data_2.reset_index(drop=True)\n",
    "test_data_3 = test_data_3.reset_index(drop=True)"
   ]
  },
  {
   "cell_type": "code",
   "execution_count": null,
   "id": "aaa743cb",
   "metadata": {},
   "outputs": [],
   "source": [
    "# plot\n",
    "import matplotlib.pyplot as plt\n",
    "def plot_single(ax_n, input_df, label):\n",
    "    ax_n.hist(list(input_df['awesomeness']), bins=2, edgecolor='black')\n",
    "    ax_n.set_xlabel('Awesomeness')\n",
    "    ax_n.set_ylabel('Number of Products')\n",
    "    ax_n.set_title(f'Distribution of Product Awesomeness in {label}')\n",
    "\n",
    "def plot_awssomeness(train0, test1, test2, test3, data_category):\n",
    "    fig, ((ax0, ax1),(ax2, ax3)) = plt.subplots(2,2, figsize=(15, 10))\n",
    "    plot_single(ax0, train0, f\"train of {data_category}\")\n",
    "    plot_single(ax1, test1, f\"test1 of {data_category}\")\n",
    "    plot_single(ax2, test2, f\"test2 of {data_category}\")\n",
    "    plot_single(ax3, test3, f\"test3 of {data_category}\")\n",
    "    plt.show()"
   ]
  },
  {
   "cell_type": "code",
   "execution_count": null,
   "id": "7cafc41a",
   "metadata": {},
   "outputs": [],
   "source": [
    "plot_awssomeness(train_data, test_data_1, test_data_2, test_data_3, \"Automotive\")"
   ]
  },
  {
   "cell_type": "code",
   "execution_count": null,
   "id": "4ffdfd4b",
   "metadata": {},
   "outputs": [],
   "source": []
  },
  {
   "cell_type": "code",
   "execution_count": null,
   "id": "32b07638",
   "metadata": {},
   "outputs": [],
   "source": [
    "train_data.reset_index(drop=True).head()"
   ]
  }
 ],
 "metadata": {
  "kernelspec": {
   "display_name": "Python 3",
   "language": "python",
   "name": "python3"
  },
  "language_info": {
   "codemirror_mode": {
    "name": "ipython",
    "version": 3
   },
   "file_extension": ".py",
   "mimetype": "text/x-python",
   "name": "python",
   "nbconvert_exporter": "python",
   "pygments_lexer": "ipython3",
   "version": "3.8.8"
  }
 },
 "nbformat": 4,
 "nbformat_minor": 5
}
